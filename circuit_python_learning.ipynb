{
 "cells": [
  {
   "cell_type": "code",
   "execution_count": 1,
   "metadata": {},
   "outputs": [
    {
     "data": {
      "text/plain": [
       "['CE0',\n",
       " 'CE1',\n",
       " 'D0',\n",
       " 'D1',\n",
       " 'D10',\n",
       " 'D11',\n",
       " 'D12',\n",
       " 'D13',\n",
       " 'D14',\n",
       " 'D15',\n",
       " 'D16',\n",
       " 'D17',\n",
       " 'D18',\n",
       " 'D19',\n",
       " 'D2',\n",
       " 'D20',\n",
       " 'D21',\n",
       " 'D22',\n",
       " 'D23',\n",
       " 'D24',\n",
       " 'D25',\n",
       " 'D26',\n",
       " 'D27',\n",
       " 'D3',\n",
       " 'D4',\n",
       " 'D5',\n",
       " 'D6',\n",
       " 'D7',\n",
       " 'D8',\n",
       " 'D9',\n",
       " 'I2C',\n",
       " 'MISO',\n",
       " 'MISO_1',\n",
       " 'MOSI',\n",
       " 'MOSI_1',\n",
       " 'RX',\n",
       " 'RXD',\n",
       " 'SCK',\n",
       " 'SCK_1',\n",
       " 'SCL',\n",
       " 'SCLK',\n",
       " 'SCLK_1',\n",
       " 'SDA',\n",
       " 'SPI',\n",
       " 'TX',\n",
       " 'TXD',\n",
       " '__blinka__',\n",
       " '__builtins__',\n",
       " '__cached__',\n",
       " '__doc__',\n",
       " '__file__',\n",
       " '__loader__',\n",
       " '__name__',\n",
       " '__package__',\n",
       " '__repo__',\n",
       " '__spec__',\n",
       " '__version__',\n",
       " 'ap_board',\n",
       " 'board_id',\n",
       " 'detector',\n",
       " 'pin',\n",
       " 'sys']"
      ]
     },
     "execution_count": 1,
     "metadata": {},
     "output_type": "execute_result"
    }
   ],
   "source": [
    "import board\n",
    "dir(board)"
   ]
  }
 ],
 "metadata": {
  "interpreter": {
   "hash": "767d51c1340bd893661ea55ea3124f6de3c7a262a8b4abca0554b478b1e2ff90"
  },
  "kernelspec": {
   "display_name": "Python 3.9.2 32-bit",
   "language": "python",
   "name": "python3"
  },
  "language_info": {
   "codemirror_mode": {
    "name": "ipython",
    "version": 3
   },
   "file_extension": ".py",
   "mimetype": "text/x-python",
   "name": "python",
   "nbconvert_exporter": "python",
   "pygments_lexer": "ipython3",
   "version": "3.9.2"
  },
  "orig_nbformat": 4
 },
 "nbformat": 4,
 "nbformat_minor": 2
}
